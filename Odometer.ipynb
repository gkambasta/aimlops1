{
  "nbformat": 4,
  "nbformat_minor": 0,
  "metadata": {
    "colab": {
      "provenance": []
    },
    "kernelspec": {
      "name": "python3",
      "display_name": "Python 3"
    },
    "language_info": {
      "name": "python"
    }
  },
  "cells": [
    {
      "cell_type": "code",
      "source": [
        "def get_digits(x):\n",
        "  lst = []\n",
        "  while (x >= 10):\n",
        "     rem = x % 10\n",
        "     lst.append(rem)\n",
        "     x = x // 10\n",
        "  lst.append(x)\n",
        "  return lst"
      ],
      "metadata": {
        "id": "Ndhvr9mAkwi7"
      },
      "execution_count": null,
      "outputs": []
    },
    {
      "cell_type": "code",
      "source": [
        "def is_arm(num):\n",
        "\n",
        "  lst = get_digits(num)\n",
        "\n",
        "  return sum([x**len(lst) for x in lst]) == num\n"
      ],
      "metadata": {
        "id": "s5DIGij2lIzA"
      },
      "execution_count": null,
      "outputs": []
    },
    {
      "cell_type": "code",
      "source": [
        "[x for x in filter(is_arm, range(1,10000))]"
      ],
      "metadata": {
        "colab": {
          "base_uri": "https://localhost:8080/"
        },
        "id": "c3aB5trU0v91",
        "outputId": "df105d89-5e21-4104-9c44-d0abc4833535"
      },
      "execution_count": null,
      "outputs": [
        {
          "output_type": "execute_result",
          "data": {
            "text/plain": [
              "[1, 2, 3, 4, 5, 6, 7, 8, 9, 153, 370, 371, 407, 1634, 8208, 9474]"
            ]
          },
          "metadata": {},
          "execution_count": 105
        }
      ]
    },
    {
      "cell_type": "code",
      "source": [
        "def factorial(x):\n",
        "  fact = 1\n",
        "  for i in range(1, x+1):\n",
        "    fact = fact * i\n",
        "\n",
        "  return fact"
      ],
      "metadata": {
        "id": "DkdqOXwpHK-W"
      },
      "execution_count": null,
      "outputs": []
    },
    {
      "cell_type": "code",
      "source": [
        "def is_strong(num):\n",
        "  lst = get_digits(num)\n",
        "\n",
        "  return sum([factorial(x) for x in lst]) == num"
      ],
      "metadata": {
        "id": "Rfqmi7dqIEK8"
      },
      "execution_count": null,
      "outputs": []
    },
    {
      "cell_type": "code",
      "source": [
        "[x for x in filter(is_strong, range(1,100000))]"
      ],
      "metadata": {
        "colab": {
          "base_uri": "https://localhost:8080/"
        },
        "id": "_ztUHWMrJUwY",
        "outputId": "1b3310de-e668-42b9-d3f9-f81919359416"
      },
      "execution_count": null,
      "outputs": [
        {
          "output_type": "execute_result",
          "data": {
            "text/plain": [
              "[1, 2, 145, 40585]"
            ]
          },
          "metadata": {},
          "execution_count": 119
        }
      ]
    },
    {
      "cell_type": "code",
      "source": [
        "def fac(x):\n",
        "    return x if x==1 else x*fac(x-1)\n"
      ],
      "metadata": {
        "id": "8eREWNLWKLMU"
      },
      "execution_count": null,
      "outputs": []
    },
    {
      "cell_type": "code",
      "source": [
        "def is_strong2(num):\n",
        "  lst = get_digits(num)\n",
        "\n",
        "  return sum([fac(x) for x in lst]) == num"
      ],
      "metadata": {
        "id": "7Gulf0eSKx6B"
      },
      "execution_count": null,
      "outputs": []
    },
    {
      "cell_type": "code",
      "source": [
        "def biggest (lst):\n",
        "    tot = 0\n",
        "    lst.sort(reverse = True)\n",
        "    for num in lst:\n",
        "        tot = tot + num * 10**(len(lst)-1)\n",
        "        lst = lst[:-1]\n",
        "\n",
        "    return tot\n",
        "\n",
        "\n",
        "def smallest (lst):\n",
        "    tot = 0\n",
        "    lst.sort()\n",
        "    for num in lst:\n",
        "        tot = tot + num * 10**(len(lst)-1)\n",
        "        lst = lst[:-1]\n",
        "\n",
        "    return tot\n",
        "\n",
        "def diff(lst):\n",
        "    return biggest(lst) - smallest(lst)\n",
        "\n",
        "\n",
        "def calc(num):\n",
        "    lst = get_digits(num)\n",
        "    seq = []\n",
        "\n",
        "    while(num != diff(lst)):\n",
        "        seq.append(num)\n",
        "        num = diff(lst)\n",
        "        lst = get_digits(num)\n",
        "\n",
        "    seq.append(num)\n",
        "\n",
        "\n",
        "\n",
        "\n",
        "\n",
        "    return seq\n",
        "\n",
        "\n"
      ],
      "metadata": {
        "id": "CXB0HGViRGkV"
      },
      "execution_count": null,
      "outputs": []
    },
    {
      "cell_type": "code",
      "source": [
        "calc(1532)"
      ],
      "metadata": {
        "colab": {
          "base_uri": "https://localhost:8080/"
        },
        "id": "RYBPo_1zTsbs",
        "outputId": "affd2387-273e-4eb3-f208-47f627ec5c54"
      },
      "execution_count": null,
      "outputs": [
        {
          "output_type": "execute_result",
          "data": {
            "text/plain": [
              "[1532, 4086, 8172, 7443, 3996, 6264, 4176, 6174]"
            ]
          },
          "metadata": {},
          "execution_count": 220
        }
      ]
    },
    {
      "cell_type": "code",
      "source": [
        "diff([6,1,7,4])"
      ],
      "metadata": {
        "colab": {
          "base_uri": "https://localhost:8080/"
        },
        "id": "09MKEaOpVfNu",
        "outputId": "10a1fbf5-eb7e-4e46-a060-6f11e202f4af"
      },
      "execution_count": null,
      "outputs": [
        {
          "output_type": "execute_result",
          "data": {
            "text/plain": [
              "6174"
            ]
          },
          "metadata": {},
          "execution_count": 204
        }
      ]
    },
    {
      "cell_type": "code",
      "source": [
        "def cube(n):\n",
        "    r=0\n",
        "    while r*r*r < n:\n",
        "        r+=1\n",
        "\n",
        "    return r*r*r == n"
      ],
      "metadata": {
        "id": "eAmT-rg4KkcC"
      },
      "execution_count": null,
      "outputs": []
    },
    {
      "cell_type": "code",
      "source": [
        "cube(8)"
      ],
      "metadata": {
        "colab": {
          "base_uri": "https://localhost:8080/"
        },
        "id": "S-BE5EDfLej3",
        "outputId": "f4de7345-2269-4b73-ab49-033e46b6528a"
      },
      "execution_count": null,
      "outputs": [
        {
          "output_type": "execute_result",
          "data": {
            "text/plain": [
              "True"
            ]
          },
          "metadata": {},
          "execution_count": 3
        }
      ]
    },
    {
      "cell_type": "code",
      "source": [
        "def fizbuzz(n):\n",
        "    return"
      ],
      "metadata": {
        "id": "eYx3MVgAhVCP"
      },
      "execution_count": null,
      "outputs": []
    },
    {
      "cell_type": "code",
      "source": [
        "def person (name, *data):\n",
        "    for d in data:\n",
        "        print(d)\n",
        "    return data\n"
      ],
      "metadata": {
        "id": "t_dBXM5tiDdc"
      },
      "execution_count": null,
      "outputs": []
    },
    {
      "cell_type": "code",
      "source": [
        "person(\"GK\", 34,35,36,37)"
      ],
      "metadata": {
        "colab": {
          "base_uri": "https://localhost:8080/"
        },
        "id": "uKPzw3kCGcdn",
        "outputId": "35c7ffb9-7836-47c0-98e4-8107eb3f87dd"
      },
      "execution_count": null,
      "outputs": [
        {
          "output_type": "stream",
          "name": "stdout",
          "text": [
            "34\n",
            "35\n",
            "36\n",
            "37\n"
          ]
        },
        {
          "output_type": "execute_result",
          "data": {
            "text/plain": [
              "(34, 35, 36, 37)"
            ]
          },
          "metadata": {},
          "execution_count": 10
        }
      ]
    },
    {
      "cell_type": "code",
      "source": [],
      "metadata": {
        "id": "npadTKuV6cmX"
      },
      "execution_count": null,
      "outputs": []
    },
    {
      "cell_type": "markdown",
      "source": [
        "#Odometer"
      ],
      "metadata": {
        "id": "FvOUpkGd96y4"
      }
    },
    {
      "cell_type": "code",
      "source": [
        "def digit(x):\n",
        "    return [int(ch) for ch in str(x)]\n",
        "\n",
        "def odom_asc(lst):\n",
        "    return lst == sorted(lst)\n",
        "\n",
        "def odom_zero(lst):\n",
        "    return any(item==0 for item in lst)\n",
        "\n",
        "def odom_uniq(lst):\n",
        "    return all([lst.count(i) == 1 for i in lst])\n"
      ],
      "metadata": {
        "id": "uOgYY_WZ996o"
      },
      "execution_count": null,
      "outputs": []
    },
    {
      "cell_type": "code",
      "source": [
        "def Odom_list(n):\n",
        "    return list(filter(lambda x: odom_asc(digit(x))==True and odom_zero(digit(x))== False and odom_uniq(digit(x))==True, [i for i in range(10**(n-1),10**n)]))\n",
        "\n",
        "\n",
        "def next_jumps(x,jumps,n):\n",
        "    lst = Odom_list(n)\n",
        "    idx = lst.index(x)\n",
        "\n",
        "    return lst[idx+jumps] if idx+jumps+1 < len(lst) else lst[jumps-len(lst)+idx]\n",
        "\n",
        "def prev_jumps(x,jumps, n):\n",
        "    lst = Odom_list(n)\n",
        "    idx = lst.index(x)\n",
        "\n",
        "    return lst[idx-jumps] if idx+1-jumps >0 else lst[len(lst)-jumps+idx]\n",
        "\n",
        "def distance(x1,x2,n):\n",
        "    lst = Odom_list(n)\n",
        "    idx1, idx2 = lst.index(x1), lst.index(x2)\n",
        "    return idx2-idx1 if idx2>idx1 else len(lst) - (idx1-idx2)\n",
        "\n"
      ],
      "metadata": {
        "id": "Q0TVAtF-99-V"
      },
      "execution_count": null,
      "outputs": []
    },
    {
      "cell_type": "code",
      "source": [
        "n = 3\n",
        "print(Odom_list(n)[:10])\n",
        "print(Odom_list(n)[-10:])"
      ],
      "metadata": {
        "colab": {
          "base_uri": "https://localhost:8080/"
        },
        "id": "Tc41gQc09-B0",
        "outputId": "b242490e-9996-4105-a5bc-9c8ba9564625"
      },
      "execution_count": null,
      "outputs": [
        {
          "output_type": "stream",
          "name": "stdout",
          "text": [
            "[123, 124, 125, 126, 127, 128, 129, 134, 135, 136]\n",
            "[567, 568, 569, 578, 579, 589, 678, 679, 689, 789]\n"
          ]
        }
      ]
    },
    {
      "cell_type": "code",
      "source": [
        "print(distance(789,123,3))\n",
        "print(distance(123,789,3))\n",
        "print(next_jumps(123,84,3))\n",
        "print(next_jumps(689,2,3))\n",
        "print(prev_jumps(125,4,3))"
      ],
      "metadata": {
        "colab": {
          "base_uri": "https://localhost:8080/"
        },
        "id": "7_SEnjAu9-Eu",
        "outputId": "8dfe60a5-906e-4dda-bd87-3776610ecc27"
      },
      "execution_count": null,
      "outputs": [
        {
          "output_type": "stream",
          "name": "stdout",
          "text": [
            "1\n",
            "83\n",
            "123\n",
            "123\n",
            "689\n"
          ]
        }
      ]
    },
    {
      "cell_type": "code",
      "source": [],
      "metadata": {
        "colab": {
          "base_uri": "https://localhost:8080/"
        },
        "id": "moVPdM26Jt17",
        "outputId": "837ea6eb-669b-488c-a74d-02574228d504"
      },
      "execution_count": null,
      "outputs": [
        {
          "output_type": "execute_result",
          "data": {
            "text/plain": [
              "123"
            ]
          },
          "metadata": {},
          "execution_count": 43
        }
      ]
    },
    {
      "cell_type": "markdown",
      "source": [
        "# Odomoter2"
      ],
      "metadata": {
        "id": "UltP_SHt6dEL"
      }
    },
    {
      "cell_type": "code",
      "source": [
        "def digit(x):\n",
        "    return [int(ch) for ch in str(x)]"
      ],
      "metadata": {
        "id": "Z5mPUpJY6m7_"
      },
      "execution_count": null,
      "outputs": []
    },
    {
      "cell_type": "code",
      "source": [
        "def odom_asc(lst):\n",
        "    return lst == sorted(lst)\n",
        "\n",
        "def odom_zero(lst):\n",
        "    return any(item==0 for item in lst)\n",
        "\n",
        "def odom_uniq(lst):\n",
        "    return list(set(lst)) == sorted(lst)\n"
      ],
      "metadata": {
        "id": "n7Z_W2lG6-Kh"
      },
      "execution_count": null,
      "outputs": []
    },
    {
      "cell_type": "code",
      "source": [
        "def Odom_list(low,high):\n",
        "    return list(filter(lambda x: odom_asc(digit(x))==True and odom_zero(digit(x))== False and odom_uniq(digit(x))==True, [i for i in range(low,high)]))"
      ],
      "metadata": {
        "id": "ZzytAJVGF4A_"
      },
      "execution_count": null,
      "outputs": []
    },
    {
      "cell_type": "code",
      "source": [
        "def next_n(x,n, low,high):\n",
        "    lst = Odom_list(low,high)\n",
        "    idx = lst.index(x)\n",
        "\n",
        "    return lst[idx+n]\n",
        "\n",
        "def prev_n(x,n, low,high):\n",
        "    lst = Odom_list(low,high)\n",
        "    idx = lst.index(x)\n",
        "\n",
        "    return lst[idx-n]"
      ],
      "metadata": {
        "id": "T2RDDJ3tOLCB"
      },
      "execution_count": null,
      "outputs": []
    },
    {
      "cell_type": "code",
      "source": [
        "next_n(235,5,220,300), prev_n(247,5,220,300)"
      ],
      "metadata": {
        "colab": {
          "base_uri": "https://localhost:8080/"
        },
        "id": "l5WSNLdYPW35",
        "outputId": "06961f94-7f74-40f4-a25d-67f0eb1643cb"
      },
      "execution_count": null,
      "outputs": [
        {
          "output_type": "execute_result",
          "data": {
            "text/plain": [
              "(247, 235)"
            ]
          },
          "metadata": {},
          "execution_count": 10
        }
      ]
    },
    {
      "cell_type": "code",
      "source": [
        "def distance(x1,x2, low,high):\n",
        "    lst = Odom_list(low,high)\n",
        "    idx1, idx2 = lst.index(x1), lst.index(x2)\n",
        "    return idx2-idx1 if idx2>idx1 else len(lst) - (idx1-idx2)"
      ],
      "metadata": {
        "id": "qF-7snIHPsil"
      },
      "execution_count": null,
      "outputs": []
    },
    {
      "cell_type": "code",
      "source": [
        "distance(237,247,200,300)"
      ],
      "metadata": {
        "colab": {
          "base_uri": "https://localhost:8080/"
        },
        "id": "tuUL7nP4V2gC",
        "outputId": "2ed8d8ba-b3a5-4211-c86e-1370083e43e7"
      },
      "execution_count": null,
      "outputs": [
        {
          "output_type": "execute_result",
          "data": {
            "text/plain": [
              "3"
            ]
          },
          "metadata": {},
          "execution_count": 16
        }
      ]
    },
    {
      "cell_type": "code",
      "source": [
        "print(Odom_list(200,300))\n",
        "print(len(Odom_list(200,300)))"
      ],
      "metadata": {
        "colab": {
          "base_uri": "https://localhost:8080/"
        },
        "id": "BginkGoyZp1E",
        "outputId": "fc27f746-8027-4b7d-b3a9-d9e1b59d6ed9"
      },
      "execution_count": null,
      "outputs": [
        {
          "output_type": "stream",
          "name": "stdout",
          "text": [
            "[234, 235, 236, 237, 245, 246, 247, 256, 257, 267]\n",
            "10\n"
          ]
        }
      ]
    },
    {
      "cell_type": "code",
      "source": [
        "distance(247,237,200,300)"
      ],
      "metadata": {
        "colab": {
          "base_uri": "https://localhost:8080/"
        },
        "id": "EQ83PPmXgnx2",
        "outputId": "8d91197a-9242-4556-d432-60d652d431a9"
      },
      "execution_count": null,
      "outputs": [
        {
          "output_type": "execute_result",
          "data": {
            "text/plain": [
              "7"
            ]
          },
          "metadata": {},
          "execution_count": 17
        }
      ]
    },
    {
      "cell_type": "code",
      "source": [
        "def next_n(x,n, low,high):\n",
        "    lst = Odom_list(low,high)\n",
        "    idx = lst.index(x)\n",
        "\n",
        "    return lst[idx+n] if idx+n+1 < len(lst) else lst[n-len(lst)+idx]"
      ],
      "metadata": {
        "id": "j28sSz5RiHPq"
      },
      "execution_count": null,
      "outputs": []
    },
    {
      "cell_type": "code",
      "source": [
        "next_n(256,2,200,300)"
      ],
      "metadata": {
        "colab": {
          "base_uri": "https://localhost:8080/"
        },
        "id": "EfVeu16Viy8s",
        "outputId": "c95a10b4-b215-402e-e37b-29b6f681a14e"
      },
      "execution_count": null,
      "outputs": [
        {
          "output_type": "execute_result",
          "data": {
            "text/plain": [
              "267"
            ]
          },
          "metadata": {},
          "execution_count": 33
        }
      ]
    },
    {
      "cell_type": "code",
      "source": [
        "def prev_n(x,n, low,high):\n",
        "    lst = Odom_list(low,high)\n",
        "    idx = lst.index(x)\n",
        "\n",
        "    return lst[idx-n] if idx+1-n >0 else lst[len(lst)-n+idx]"
      ],
      "metadata": {
        "id": "8z6j_2Nyk0j_"
      },
      "execution_count": null,
      "outputs": []
    },
    {
      "cell_type": "code",
      "source": [
        "prev_n(245,4,200,300)"
      ],
      "metadata": {
        "colab": {
          "base_uri": "https://localhost:8080/"
        },
        "id": "h5b0CHI0lREJ",
        "outputId": "d020ea8d-98fe-4a61-df2b-e93b0428c523"
      },
      "execution_count": null,
      "outputs": [
        {
          "output_type": "execute_result",
          "data": {
            "text/plain": [
              "234"
            ]
          },
          "metadata": {},
          "execution_count": 57
        }
      ]
    }
  ]
}